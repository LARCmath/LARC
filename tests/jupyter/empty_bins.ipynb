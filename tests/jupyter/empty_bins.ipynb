{
 "cells": [
  {
   "cell_type": "markdown",
   "metadata": {},
   "source": [
    "This is the notebook for empty_bins.py\n"
   ]
  },
  {
   "cell_type": "code",
   "execution_count": 3,
   "metadata": {
    "collapsed": false
   },
   "outputs": [
    {
     "name": "stdout",
     "output_type": "stream",
     "text": [
      "The number of bins  is 1073741824\n",
      "The number of balls is 1922527\n",
      "The prob that a single toss puts a ball in a particular bin is 9.31323e-10\n",
      "The prob that a single toss leaves a particular bin empty is 1\n",
      "The prob that 1922527 tosses leaves a particular bin empty is 0.998211\n",
      "After 1922527 tosses into 1073741824 bins, the expected number of empty bins is 1071821017\n",
      "which is 99.8211 percent of the bins\n",
      "And we expect 1919087 bins to have exactly one ball\n",
      "The expected number of bins with at least one ball is 1920806\n"
     ]
    }
   ],
   "source": [
    "import numpy as np\n",
    "import matplotlib.mlab as mlab\n",
    "import matplotlib.pyplot as plt\n",
    "%matplotlib nbagg\n",
    "\n",
    "###########################################################\n",
    "######### Toss numballs balls into numbins bins ###########\n",
    "###########################################################\n",
    "## WARNING!   Note the numbers for rsc 12 12 are too big for histogram\n",
    "# numbins = 1073741824  # 2^{30}\n",
    "# numballs =  28500000\n",
    "\n",
    "numbins = 1073741824\n",
    "numballs = 1922527\n",
    "# numballs = 1090000000\n",
    "print \"The number of bins  is %d\" %numbins\n",
    "print \"The number of balls is %d\" %numballs\n",
    "\n",
    "######################################################################\n",
    "######  Theoretical Calculation of expected number of empty bins  ####\n",
    "######################################################################\n",
    "## After a single toss, for a particular bin, \n",
    "##     the probability that it has content or is empty\n",
    "baseprobin = 1.0/numbins\n",
    "baseprobempty = (1-baseprobin)\n",
    "print \"The prob that a single toss puts a ball in a particular bin is %g\" %baseprobin\n",
    "print \"The prob that a single toss leaves a particular bin empty is %g\" %baseprobempty\n",
    "\n",
    "## After numball tosses, the probability that the particular bin is empty is\n",
    "probempty = pow(baseprobempty,numballs)\n",
    "print \"The prob that %d tosses leaves a particular bin empty is %g\" %(numballs,probempty)\n",
    "\n",
    "## The expected number of empty bins after numballs tosses\n",
    "expectedemptybins = probempty * numbins\n",
    "print \"After %d tosses into %d bins, the expected number of empty bins is %d\" %(numballs,numbins,expectedemptybins)\n",
    "print \"which is %g percent of the bins\" %(100 * expectedemptybins/numbins)\n",
    "\n",
    "\n",
    "## The probability that a particular bin has exactly one ball after numballs tosses\n",
    "thisbinhas1 = baseprobin * (pow(baseprobempty, numballs-1)) * numballs\n",
    "expectedwith1 = numbins * thisbinhas1\n",
    "print \"And we expect %d bins to have exactly one ball\" %expectedwith1\n",
    "                    \n",
    "## The number of bins that have at least one ball is\n",
    "expectedOccupiedBins = numbins - expectedemptybins\n",
    "print \"The expected number of bins with at least one ball is %d\" %expectedOccupiedBins"
   ]
  },
  {
   "cell_type": "code",
   "execution_count": null,
   "metadata": {
    "collapsed": true
   },
   "outputs": [],
   "source": [
    "####   WARNING   ####\n",
    "   \n",
    "## Note the numbers for rsc 12 12 are too big, they stall the desktop\n",
    "# numbins = 1073741824  # 2^{30}\n",
    "# numballs =  28500000\n",
    "numbins = 1073741 \n",
    "numballs = 285000\n",
    "\n",
    "###########################################################################\n",
    "######  Monte Carlo the number of empty bins and bins with 1 ball  ########\n",
    "###########################################################################\n",
    "print \"Carrying out Monte Carlo with %d balls and %d bins\" %(numballs, numbins)\n",
    "\n",
    "## first get a list numballs real numbers each between 0 and numbins\n",
    "realballpositions = numbins*np.random.rand(numballs)\n",
    "\n",
    "## calculate the count of balls in each bin\n",
    "bincount = np.zeros(numbins)\n",
    "for rbp in realballpositions:\n",
    "    i = int(rbp)\n",
    "    bincount[i] = bincount[i] + 1;\n",
    "    \n",
    "## count the number of empty bins\n",
    "numempty = 0\n",
    "for bin in range(numbins):\n",
    "    if (bincount[bin] == 0):\n",
    "        numempty = numempty + 1\n",
    "print (\"The number of empty bins is %d\") %numempty\n",
    "        \n",
    "# the histogram of the data\n",
    "n, histbins, patches = plt.hist(bincount, 50, facecolor='green')\n",
    "\n",
    "plt.xlabel('number of balls k')\n",
    "plt.ylabel('number of bins with exactly k balls')\n",
    "stringtitle = 'Number of bins with k balls: %d bins, %d balls' %(numbins,numballs)\n",
    "plt.title(stringtitle)\n",
    "#  plt.axis([40,160, 0, 0.03])\n",
    "# plt.grid(True)\n",
    "\n",
    "plt.show()"
   ]
  }
 ],
 "metadata": {
  "kernelspec": {
   "display_name": "Python 2",
   "language": "python",
   "name": "python2"
  },
  "language_info": {
   "codemirror_mode": {
    "name": "ipython",
    "version": 2
   },
   "file_extension": ".py",
   "mimetype": "text/x-python",
   "name": "python",
   "nbconvert_exporter": "python",
   "pygments_lexer": "ipython2",
   "version": "2.7.10"
  }
 },
 "nbformat": 4,
 "nbformat_minor": 0
}
