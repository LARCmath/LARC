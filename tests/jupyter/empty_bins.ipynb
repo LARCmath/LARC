{
 "cells": [
  {
   "cell_type": "markdown",
   "metadata": {},
   "source": [
    "This is the notebook for empty_bins.py\n"
   ]
  },
  {
   "cell_type": "markdown",
   "metadata": {},
   "source": [
    "# Header for Software License\n",
    "\n",
    "                                                         \n",
    "Copyright (C) 2014, Institute for Defense Analyses             \n",
    "4850 Mark Center Drive, Alexandria, VA; 703-845-2500           \n",
    "This material may be reproduced by or for the US Government    \n",
    "pursuant to the copyright license under the clauses at DFARS   \n",
    "252.227-7013 and 252.227-7014.                                 \n",
    "                                                               \n",
    "LARC : Linear Algebra via Recursive Compression                \n",
    "Authors:                                                       \n",
    "   * Steve Cuccaro (IDA-CCS)                                    \n",
    "   * John Daly (LPS)                                            \n",
    "   * John Gilbert (UCSB, IDA adjunct)                           \n",
    "   * Jenny Zito (IDA-CCS)                                       \n",
    "                                                               \n",
    "Additional contributors are listed in \"LARCcontributors\".      \n",
    "                                                               \n",
    "Questions: larc@super.org                                      \n",
    "                                                                \n",
    "All rights reserved.                                       \n",
    "                                                           \n",
    "Redistribution and use in source and binary forms, with or  \n",
    "without modification, are permitted provided that the\n",
    "following conditions are met:                          \n",
    "  * Redistribution of source code must retain the above copyright notice, this list of conditions and the following disclaimer. \n",
    "  *  Redistribution in binary form must reproduce the above  copyright notice, this list of conditions and the  following disclaimer in the documentation and/or other  materials provided with the distribution.  \n",
    "  * Neither the name of the copyright holder nor the names of its contributors may be used to endorse or promote products derived from this software without specific prior written permission. \n",
    "\n",
    "THIS SOFTWARE IS PROVIDED BY THE COPYRIGHT HOLDERS AND CONTRIBUTORS \"AS IS\" AND ANY EXPRESS OR IMPLIED WARRANTIES, \n",
    "INCLUDING, BUT NOT LIMITED TO, THE IMPLIED WARRANTIES OF MERCHANTABILITY AND FITNESS FOR A PARTICULAR PURPOSE ARE DISCLAIMED.  IN NO EVENT SHALL THE COPYRIGHT HOLDER NOR \n",
    "CONTRIBUTORS BE LIABLE FOR ANY DIRECT, INDIRECT, INCIDENTAL, SPECIAL, EXEMPLARY, OR CONSEQUENTIAL DAMAGES (INCLUDING, BUT NOT LIMITED TO, PROCUREMENT OF SUBSTITUTE GOODS OR SERVICES; \n",
    "LOSS OF USE, DATA, OR PROFITS; OR BUSINESS INTERRUPTION) HOWEVER CAUSED AND ON ANY THEORY OF LIABILITY, WHETHER IN CONTRACT, \n",
    "STRICT LIABILITY, OR TORT (INCLUDING NEGLIGENCE OR  OTHERWISE) ARISING IN ANY WAY OUT OF THE USE OF THIS SOFTWARE, EVEN IF ADVISED OF THE POSSIBILITY OF SUCH DAMAGE."
   ]
  },
  {
   "cell_type": "code",
   "execution_count": 1,
   "metadata": {},
   "outputs": [
    {
     "name": "stdout",
     "output_type": "stream",
     "text": [
      "The number of bins  is 1073741824\n",
      "The number of balls is 1922527\n",
      "The prob that a single toss puts a ball in a particular bin is 9.31323e-10\n",
      "The prob that a single toss leaves a particular bin empty is 1\n",
      "The prob that 1922527 tosses leaves a particular bin empty is 0.998211\n",
      "After 1922527 tosses into 1073741824 bins, the expected number of empty bins is 1071821017\n",
      "which is 99.8211 percent of the bins\n",
      "And we expect 1919087 bins to have exactly one ball\n",
      "The expected number of bins with at least one ball is 1920806\n"
     ]
    }
   ],
   "source": [
    "import numpy as np\n",
    "import matplotlib.mlab as mlab\n",
    "import matplotlib.pyplot as plt\n",
    "%matplotlib nbagg\n",
    "\n",
    "###########################################################\n",
    "######### Toss numballs balls into numbins bins ###########\n",
    "###########################################################\n",
    "## WARNING!   Note the numbers for rsc 12 12 are too big for histogram\n",
    "# numbins = 1073741824  # 2^{30}\n",
    "# numballs =  28500000\n",
    "\n",
    "numbins = 1073741824\n",
    "numballs = 1922527\n",
    "# numballs = 1090000000\n",
    "print(\"The number of bins  is %d\" %numbins)\n",
    "print(\"The number of balls is %d\" %numballs)\n",
    "\n",
    "######################################################################\n",
    "######  Theoretical Calculation of expected number of empty bins  ####\n",
    "######################################################################\n",
    "## After a single toss, for a particular bin, \n",
    "##     the probability that it has content or is empty\n",
    "baseprobin = 1.0/numbins\n",
    "baseprobempty = (1-baseprobin)\n",
    "print(\"The prob that a single toss puts a ball in a particular bin is %g\" %baseprobin)\n",
    "print(\"The prob that a single toss leaves a particular bin empty is %g\" %baseprobempty)\n",
    "\n",
    "## After numball tosses, the probability that the particular bin is empty is\n",
    "probempty = pow(baseprobempty,numballs)\n",
    "print(\"The prob that %d tosses leaves a particular bin empty is %g\" %(numballs,probempty))\n",
    "\n",
    "## The expected number of empty bins after numballs tosses\n",
    "expectedemptybins = probempty * numbins\n",
    "print(\"After %d tosses into %d bins, the expected number of empty bins is %d\" %(numballs,numbins,expectedemptybins))\n",
    "print(\"which is %g percent of the bins\" %(100 * expectedemptybins/numbins))\n",
    "\n",
    "\n",
    "## The probability that a particular bin has exactly one ball after numballs tosses\n",
    "thisbinhas1 = baseprobin * (pow(baseprobempty, numballs-1)) * numballs\n",
    "expectedwith1 = numbins * thisbinhas1\n",
    "print(\"And we expect %d bins to have exactly one ball\" %expectedwith1)\n",
    "                    \n",
    "## The number of bins that have at least one ball is\n",
    "expectedOccupiedBins = numbins - expectedemptybins\n",
    "print(\"The expected number of bins with at least one ball is %d\" %expectedOccupiedBins)"
   ]
  },
  {
   "cell_type": "code",
   "execution_count": 2,
   "metadata": {},
   "outputs": [
    {
     "name": "stdout",
     "output_type": "stream",
     "text": [
      "Carrying out Monte Carlo with 285000 balls and 1073741 bins\n",
      "The number of empty bins is 823472\n"
     ]
    },
    {
     "data": {
      "image/png": "[encoded data removed]",
      "text/plain": [
       "<Figure size 432x288 with 1 Axes>"
      ]
     },
     "metadata": {},
     "output_type": "display_data"
    }
   ],
   "source": [
    "####   WARNING   ####\n",
    "   \n",
    "## Note the numbers for rsc 12 12 are too big, they stall the desktop\n",
    "# numbins = 1073741824  # 2^{30}\n",
    "# numballs =  28500000\n",
    "numbins = 1073741 \n",
    "numballs = 285000\n",
    "\n",
    "###########################################################################\n",
    "######  Monte Carlo the number of empty bins and bins with 1 ball  ########\n",
    "###########################################################################\n",
    "print(\"Carrying out Monte Carlo with %d balls and %d bins\" %(numballs, numbins))\n",
    "\n",
    "## first get a list numballs real numbers each between 0 and numbins\n",
    "realballpositions = numbins*np.random.rand(numballs)\n",
    "\n",
    "## calculate the count of balls in each bin\n",
    "bincount = np.zeros(numbins)\n",
    "for rbp in realballpositions:\n",
    "    i = int(rbp)\n",
    "    bincount[i] = bincount[i] + 1;\n",
    "    \n",
    "## count the number of empty bins\n",
    "numempty = 0\n",
    "for bin in range(numbins):\n",
    "    if (bincount[bin] == 0):\n",
    "        numempty = numempty + 1\n",
    "print(\"The number of empty bins is %d\" %numempty)\n",
    "        \n",
    "# the histogram of the data\n",
    "n, histbins, patches = plt.hist(bincount, 50, facecolor='green')\n",
    "\n",
    "plt.xlabel('number of balls k')\n",
    "plt.ylabel('number of bins with exactly k balls')\n",
    "stringtitle = 'Number of bins with k balls: %d bins, %d balls' %(numbins,numballs)\n",
    "plt.title(stringtitle)\n",
    "#  plt.axis([40,160, 0, 0.03])\n",
    "# plt.grid(True)\n",
    "\n",
    "plt.show()"
   ]
  }
 ],
 "metadata": {
  "kernelspec": {
   "display_name": "Python 3",
   "language": "python",
   "name": "python3"
  },
  "language_info": {
   "codemirror_mode": {
    "name": "ipython",
    "version": 3
   },
   "file_extension": ".py",
   "mimetype": "text/x-python",
   "name": "python",
   "nbconvert_exporter": "python",
   "pygments_lexer": "ipython3",
   "version": "3.6.5"
  }
 },
 "nbformat": 4,
 "nbformat_minor": 1
}
