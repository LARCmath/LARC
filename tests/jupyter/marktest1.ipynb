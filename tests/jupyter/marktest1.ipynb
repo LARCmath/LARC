{
 "cells": [
  {
   "cell_type": "code",
   "execution_count": 1,
   "metadata": {},
   "outputs": [
    {
     "name": "stdout",
     "output_type": "stream",
     "text": [
      "\n",
      "155 matrices have been created\n",
      "\n",
      "The initial matrix store can be seen in ../dat/out/preload.MP_Rational.store\n",
      "\n"
     ]
    }
   ],
   "source": [
    "#################################################################\n",
    "#                                                               #\n",
    "# Copyright 2014, Institute for Defense Analyses                #\n",
    "# 4850 Mark Center Drive, Alexandria, VA; 703-845-2500          #\n",
    "# This material may be reproduced by or for the US Government   #\n",
    "# pursuant to the copyright license under the clauses at DFARS  #\n",
    "# 252.227-7013 and 252.227-7014.                                #\n",
    "#                                                               #\n",
    "# LARC : Linear Algebra via Recursive Compression               #\n",
    "# Authors:                                                      #\n",
    "#   - Steve Cuccaro (IDA-CCS)                                   #\n",
    "#   - John Daly (LPS)                                           #\n",
    "#   - John Gilbert (UCSB, IDA adjunct)                          #\n",
    "#   - Jenny Zito (IDA-CCS)                                      #\n",
    "#                                                               #\n",
    "# Additional contributors are listed in \"LARCcontributors\".   #\n",
    "#                                                               #\n",
    "# POC: Jennifer Zito <jszito@super.org>                         #\n",
    "# Please contact the POC before disseminating this code.        #\n",
    "#                                                               #\n",
    "#################################################################\n",
    "\n",
    "import os\n",
    "import sys \n",
    "sys.path.append(\"../../src\")\n",
    "import pylarc\n",
    "import numpy as np\n",
    "from ctypes import *\n",
    "# import matplotlib.pyplot as plt\n",
    "# %matplotlib nbagg\n",
    "\n",
    "# print \"This code tests some basic matrix building and reading routines\\n\"\n",
    "# initialize larc\n",
    "mat_store_exp = 15\n",
    "op_store_exp = 5\n",
    "max_level = 10\n",
    "rnd_sig_bits = -1   # default value\n",
    "trunc_to_zero_bits = -1  # default value\n",
    "pylarc.create_report_thread(1800)\n",
    "pylarc.initialize_larc(mat_store_exp,op_store_exp,max_level,rnd_sig_bits,trunc_to_zero_bits)\n",
    "\n",
    "# Define string for using in formating filenames\n",
    "if pylarc.cvar.scalarTypeDef == 'i':\n",
    "    scalarType = \"Integer\"\n",
    "elif pylarc.cvar.scalarTypeDef == 'c':\n",
    "    scalarType = \"Complex\"\n",
    "elif pylarc.cvar.scalarTypeDef == 'r':\n",
    "    scalarType = \"Real\"\n",
    "elif pylarc.cvar.scalarTypeDef == 'z':\n",
    "    scalarType = \"MP_Integer\"\n",
    "elif pylarc.cvar.scalarTypeDef == 'q':\n",
    "    scalarType = \"MP_Rational\"\n",
    "else:\n",
    "    raise Exception('scalarTypeDef %s was not handled.'%(pylarc.cvar.scalarTypeDef,))\n",
    "\n",
    "# Calculate number of matrices created, then print part of matrix store\n",
    "num_matrices_made = pylarc.num_matrices_created()\n",
    "print \"\\n%d matrices have been created\" %num_matrices_made\n",
    "end = num_matrices_made - 1\n",
    "filename = \"../dat/out/preload.%s.store\" %scalarType\n",
    "pylarc.matrix_store_info_to_file(0,end,filename,\"After preload with parameters: 26, 24, 10.\")\n",
    "print \"\\nThe initial matrix store can be seen in %s\\n\" %filename\n",
    "\n",
    "# type control return to execute this code block\n"
   ]
  },
  {
   "cell_type": "code",
   "execution_count": 2,
   "metadata": {},
   "outputs": [
    {
     "data": {
      "text/plain": [
       "module"
      ]
     },
     "execution_count": 2,
     "metadata": {},
     "output_type": "execute_result"
    }
   ],
   "source": [
    "type(pylarc)"
   ]
  },
  {
   "cell_type": "code",
   "execution_count": 3,
   "metadata": {},
   "outputs": [
    {
     "data": {
      "text/plain": [
       "swigvarlink"
      ]
     },
     "execution_count": 3,
     "metadata": {},
     "output_type": "execute_result"
    }
   ],
   "source": [
    "type(pylarc.cvar)"
   ]
  },
  {
   "cell_type": "code",
   "execution_count": 4,
   "metadata": {},
   "outputs": [
    {
     "data": {
      "text/plain": [
       "'<Swig global variables>'"
      ]
     },
     "execution_count": 4,
     "metadata": {},
     "output_type": "execute_result"
    }
   ],
   "source": [
    "repr(pylarc.cvar)"
   ]
  },
  {
   "cell_type": "code",
   "execution_count": 5,
   "metadata": {},
   "outputs": [
    {
     "data": {
      "text/plain": [
       "'(matID_HH1, matID_NOT, matID_I1, matID_scalarM0_5, matID_scalar0_5, matID_scalarM1, matID_scalar1, matID_scalar0, scalarTypeDef, thd)'"
      ]
     },
     "execution_count": 5,
     "metadata": {},
     "output_type": "execute_result"
    }
   ],
   "source": [
    "str(pylarc.cvar)"
   ]
  },
  {
   "cell_type": "code",
   "execution_count": 6,
   "metadata": {},
   "outputs": [
    {
     "data": {
      "text/plain": [
       "'MP_Rational'"
      ]
     },
     "execution_count": 6,
     "metadata": {},
     "output_type": "execute_result"
    }
   ],
   "source": [
    "scalarType"
   ]
  },
  {
   "cell_type": "code",
   "execution_count": 7,
   "metadata": {
    "scrolled": true
   },
   "outputs": [
    {
     "data": {
      "text/plain": [
       "<Swig Object of type 'pthread_t *' at 0x7fafae9e5780>"
      ]
     },
     "execution_count": 7,
     "metadata": {},
     "output_type": "execute_result"
    }
   ],
   "source": [
    "pylarc.cvar.thd"
   ]
  },
  {
   "cell_type": "code",
   "execution_count": 8,
   "metadata": {},
   "outputs": [],
   "source": [
    "my_identity_2 = pylarc.cvar.packedID_I1\n",
    "my_identity_4 = pylarc.kronecker_product_matrixID(my_identity_2, my_identity_2)\n",
    "pylarc.print_matrix_naive_by_matrixID(my_identity_4)\n",
    "pylarc. print_matrix_nonzeros_to_file_by_matrixID(my_identity_4, \"wkrp.txt\")"
   ]
  },
  {
   "cell_type": "code",
   "execution_count": 9,
   "metadata": {},
   "outputs": [],
   "source": [
    "my_mat1_2 = pylarc.row_major_list_to_store_matrixID([\"17\", \"34000\", \"-2\", \"0\"], 1, 1, 2)\n",
    "pylarc.print_matrix_naive_by_matrixID(my_mat1_2)"
   ]
  },
  {
   "cell_type": "code",
   "execution_count": 10,
   "metadata": {},
   "outputs": [
    {
     "data": {
      "text/plain": [
       "matrix([[ 1. ,  3. ,  0.5,  6. ],\n",
       "        [ 8. ,  6. ,  3. ,  0.1],\n",
       "        [-9. , 11. , 13. ,  1.5],\n",
       "        [16. , 13. , 12. , 10. ]])"
      ]
     },
     "execution_count": 10,
     "metadata": {},
     "output_type": "execute_result"
    }
   ],
   "source": [
    "a = np.matrix([[1, 3, .5, 6],\n",
    "               [8, 6, 3, .1],\n",
    "               [-9, 11, 13, 1.5],\n",
    "               [16, 13, 12, 10]])\n",
    "a"
   ]
  },
  {
   "cell_type": "code",
   "execution_count": 11,
   "metadata": {},
   "outputs": [
    {
     "data": {
      "text/plain": [
       "[1.0,\n",
       " 3.0,\n",
       " 0.5,\n",
       " 6.0,\n",
       " 8.0,\n",
       " 6.0,\n",
       " 3.0,\n",
       " 0.1,\n",
       " -9.0,\n",
       " 11.0,\n",
       " 13.0,\n",
       " 1.5,\n",
       " 16.0,\n",
       " 13.0,\n",
       " 12.0,\n",
       " 10.0]"
      ]
     },
     "execution_count": 11,
     "metadata": {},
     "output_type": "execute_result"
    }
   ],
   "source": [
    "alist = a.reshape(-1).tolist()[0]\n",
    "alist"
   ]
  },
  {
   "cell_type": "code",
   "execution_count": 12,
   "metadata": {},
   "outputs": [],
   "source": [
    "my_mat2_4 = pylarc.row_major_list_to_store_matrixID(map(str, alist), 2, 2, 4)\n",
    "my_mat3_2by8 = pylarc.row_major_list_to_store_matrixID(map(str, alist), 1, 3, 8)"
   ]
  },
  {
   "cell_type": "code",
   "execution_count": 13,
   "metadata": {},
   "outputs": [],
   "source": [
    "pylarc.print_matrix_naive_by_matrixID(my_mat2_4)\n",
    "pylarc.print_matrix_naive_by_matrixID(my_mat3_2by8)"
   ]
  },
  {
   "cell_type": "code",
   "execution_count": 14,
   "metadata": {},
   "outputs": [],
   "source": [
    "my_mat5_16 = pylarc.random_bool_matrixID_from_count(4, 4, \"100\")"
   ]
  },
  {
   "cell_type": "code",
   "execution_count": 15,
   "metadata": {},
   "outputs": [],
   "source": [
    "pylarc.print_matrix_naive_by_matrixID(my_mat5_16)"
   ]
  },
  {
   "cell_type": "code",
   "execution_count": null,
   "metadata": {},
   "outputs": [],
   "source": []
  }
 ],
 "metadata": {
  "kernelspec": {
   "display_name": "Python 2",
   "language": "python",
   "name": "python2"
  },
  "language_info": {
   "codemirror_mode": {
    "name": "ipython",
    "version": 2
   },
   "file_extension": ".py",
   "mimetype": "text/x-python",
   "name": "python",
   "nbconvert_exporter": "python",
   "pygments_lexer": "ipython2",
   "version": "2.7.15"
  }
 },
 "nbformat": 4,
 "nbformat_minor": 2
}
